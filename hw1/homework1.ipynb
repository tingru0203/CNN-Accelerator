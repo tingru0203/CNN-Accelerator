{
 "cells": [
  {
   "cell_type": "markdown",
   "metadata": {
    "id": "zTvIwDlYvBzC"
   },
   "source": [
    "# HW1: LeNet-5 with Post-training Quantization\n",
    "[LeNet](http://yann.lecun.com/exdb/publis/pdf/lecun-01a.pdf) is considered to be the first ConvNet.\n",
    "We are going to implement a neural architecture similar to LeNet and train it with [MNIST](https://en.wikipedia.org/wiki/MNIST_database) dataset.\n",
    "\n",
    "Before we start, you may check this [Tensorspace-LeNet](https://tensorspace.org/html/playground/lenet.html) to play with LeNet and get familiar with this neural architecture.\n",
    "\n",
    "![image](https://production-media.paperswithcode.com/methods/LeNet_Original_Image_48T74Lc.jpg)\n",
    "Ref.: LeCun et al., Gradient-Based Learning Applied to Document Recognition, 1998a"
   ]
  },
  {
   "cell_type": "markdown",
   "metadata": {
    "id": "nP_negz7ZcCR"
   },
   "source": [
    "## 1. Initial Setup\n",
    "\n",
    "We are going to implement and train this neural network with PyTorch. \n",
    "If you are not familiar with PyTorch, check the [official tutorail](https://pytorch.org/tutorials/beginner/basics/intro.html)"
   ]
  },
  {
   "cell_type": "code",
   "execution_count": 4,
   "metadata": {
    "colab": {
     "base_uri": "https://localhost:8080/"
    },
    "executionInfo": {
     "elapsed": 6455,
     "status": "ok",
     "timestamp": 1647621675125,
     "user": {
      "displayName": "柳廷儒",
      "photoUrl": "https://lh3.googleusercontent.com/a/default-user=s64",
      "userId": "15244731849495623051"
     },
     "user_tz": -480
    },
    "id": "hbiiMcdNJI--",
    "outputId": "7c4c1a3d-f675-46c2-a131-253afcb6460c"
   },
   "outputs": [
    {
     "name": "stdout",
     "output_type": "stream",
     "text": [
      "cuda:0\n"
     ]
    }
   ],
   "source": [
    "import torch\n",
    "import torchvision\n",
    "import torchvision.transforms as transforms\n",
    "import torch.nn as nn\n",
    "import torch.nn.functional as F\n",
    "import torch.optim as optim\n",
    "from torch.utils.data import DataLoader\n",
    "import numpy as np\n",
    "\n",
    "device = torch.device(\"cuda:0\" if torch.cuda.is_available() else \"cpu\")\n",
    "print(device)"
   ]
  },
  {
   "cell_type": "markdown",
   "metadata": {
    "id": "nCaMDWYArEXO"
   },
   "source": [
    "### 1.1 Loading dataset\n",
    "Load training and test data from the MNIST dataset."
   ]
  },
  {
   "cell_type": "code",
   "execution_count": 5,
   "metadata": {
    "executionInfo": {
     "elapsed": 2786,
     "status": "ok",
     "timestamp": 1647621677905,
     "user": {
      "displayName": "柳廷儒",
      "photoUrl": "https://lh3.googleusercontent.com/a/default-user=s64",
      "userId": "15244731849495623051"
     },
     "user_tz": -480
    },
    "id": "_5UuOjjrnogR"
   },
   "outputs": [],
   "source": [
    "transform = transforms.Compose(\n",
    "    [\n",
    "     transforms.Resize((32, 32)),\n",
    "     transforms.ToTensor(),\n",
    "     transforms.Normalize((0.5,), (0.5,))\n",
    "    ])\n",
    "\n",
    "trainset = torchvision.datasets.MNIST(root='./data', train=True,\n",
    "                                        download=True, transform=transform)\n",
    "trainloader = torch.utils.data.DataLoader(trainset, batch_size=4,\n",
    "                                          shuffle=True, num_workers=2)\n",
    "\n",
    "testset = torchvision.datasets.MNIST(root='./data', train=False,\n",
    "                                       download=True, transform=transform)\n",
    "testloader = torch.utils.data.DataLoader(testset, batch_size=8,\n",
    "                                         shuffle=False, num_workers=2)"
   ]
  },
  {
   "cell_type": "markdown",
   "metadata": {
    "id": "l62CkyIwtSOv"
   },
   "source": [
    "### 1.2 Defining the Neural Network \n",
    "Define a simple CNN that classifies MNIST images."
   ]
  },
  {
   "cell_type": "code",
   "execution_count": 6,
   "metadata": {
    "executionInfo": {
     "elapsed": 15572,
     "status": "ok",
     "timestamp": 1647621693469,
     "user": {
      "displayName": "柳廷儒",
      "photoUrl": "https://lh3.googleusercontent.com/a/default-user=s64",
      "userId": "15244731849495623051"
     },
     "user_tz": -480
    },
    "id": "9fL3F-7Rntog"
   },
   "outputs": [],
   "source": [
    "from nnutils import LeNet\n",
    "net = LeNet().to(device)"
   ]
  },
  {
   "cell_type": "markdown",
   "metadata": {
    "id": "yLDiVJ3VZcCV"
   },
   "source": [
    "### 1.3 Question: Profiling the Neural Architecture by TorchInfo\n",
    "Torchinfo provides information complementary to what is provided by print(your_model) in PyTorch, similar to Tensorflow's `model.summary()` API to view the visualization of the model, which is helpful while debugging your network. Check this [link](https://github.com/TylerYep/torchinfo#how-to-use) about how to use TorchInfo by `summary()` and fill in the TODO in the following cell. You should get the result similar to the table below:\n",
    "\n",
    "```\n",
    "==========================================================================================\n",
    "Layer (type:depth-idx)                   Output Shape              Param #\n",
    "==========================================================================================\n",
    "LeNet                                    --                        --\n",
    "...\n",
    "...\n",
    "==========================================================================================\n",
    "Total params: ...\n",
    "...\n",
    "Estimated Total Size (MB): ...\n",
    "==========================================================================================\n",
    "```\n",
    "\n",
    "Ref.: https://github.com/TylerYep/torchinfo\n",
    "\n",
    "Please read *B. LeNet-5* in the [original paper](http://yann.lecun.com/exdb/publis/pdf/lecun-01a.pdf) and answer the following questions in the report.\n",
    "1. What is the type (convolution, pooling, fully-connected layer, etc.), input activation size, output activation size, and activation function (if any) of each layer?\n",
    "2. What is the difference between this neural architecture and the LeNet-5 in the [original paper](http://yann.lecun.com/exdb/publis/pdf/lecun-01a.pdf)?\n",
    "3. Could we replace the 3rd conv, the conv in c5, with a fully connected layer?"
   ]
  },
  {
   "cell_type": "markdown",
   "metadata": {
    "id": "d5WmjFeeZcCW"
   },
   "source": [
    "### 1.3 Answers\n",
    "<font color='red'>Write your answers here.</font>\n",
    "1. \n",
    "* C1: \n",
    "  * type: convolutional layer\n",
    "  * input activation size: 1x32x32\n",
    "  * output activation size: 6x28x28\n",
    "* S2: \n",
    "  * type: sub-sampling layer\n",
    "  * input activation size: 6x28x28\n",
    "  * output activation size: 6x14x14\n",
    "  * activation function: sigmoid\n",
    "* C3:\n",
    "  * type: convolutional layer\n",
    "  * input activation size: 6x14x14\n",
    "  * output activation size: 16x10x10\n",
    "* S4:\n",
    "  * type: sub-sampling layer\n",
    "  * input activation size: 16x10x10\n",
    "  * output activation size: 16x5x5\n",
    "* C5:\n",
    "  * type: convolutional layer\n",
    "  * input activation size: 16x5x5\n",
    "  * output activation size: 120x1x1\n",
    "* F6: \n",
    "  * type: fully-connected layer\n",
    "  * input activation size: 120\n",
    "  * output activation size: 84\n",
    "  * activation function: tanh\n",
    "* OUTPUT:\n",
    "  * type: fully-connected layer\n",
    "  * input activation size: 84\n",
    "  * output activation size: 10\n",
    "2. \n",
    "* activation function使用ReLU，原論文使用的是sigmoid或tanh\n",
    "* sub-sampling layer使用max pooling，原論文使用average pooling\n",
    "3. 可以，因為C5與S4完全連接，可以換成fully-connected layer"
   ]
  },
  {
   "cell_type": "code",
   "execution_count": 7,
   "metadata": {
    "colab": {
     "base_uri": "https://localhost:8080/"
    },
    "executionInfo": {
     "elapsed": 8,
     "status": "ok",
     "timestamp": 1647621693470,
     "user": {
      "displayName": "柳廷儒",
      "photoUrl": "https://lh3.googleusercontent.com/a/default-user=s64",
      "userId": "15244731849495623051"
     },
     "user_tz": -480
    },
    "id": "E6kxQN-AZcCX",
    "outputId": "47c9e0af-5ad3-4e54-b872-2805ef3de56f"
   },
   "outputs": [
    {
     "data": {
      "text/plain": [
       "==========================================================================================\n",
       "Layer (type:depth-idx)                   Output Shape              Param #\n",
       "==========================================================================================\n",
       "LeNet                                    --                        --\n",
       "├─Sequential: 1-1                        [4, 6, 28, 28]            --\n",
       "│    └─Conv2d: 2-1                       [4, 6, 28, 28]            150\n",
       "│    └─ReLU: 2-2                         [4, 6, 28, 28]            --\n",
       "├─Sequential: 1-2                        [4, 6, 14, 14]            --\n",
       "│    └─MaxPool2d: 2-3                    [4, 6, 14, 14]            --\n",
       "├─Sequential: 1-3                        [4, 16, 10, 10]           --\n",
       "│    └─Conv2d: 2-4                       [4, 16, 10, 10]           2,400\n",
       "│    └─ReLU: 2-5                         [4, 16, 10, 10]           --\n",
       "├─Sequential: 1-4                        [4, 16, 5, 5]             --\n",
       "│    └─MaxPool2d: 2-6                    [4, 16, 5, 5]             --\n",
       "├─Sequential: 1-5                        [4, 120, 1, 1]            --\n",
       "│    └─Conv2d: 2-7                       [4, 120, 1, 1]            48,000\n",
       "│    └─ReLU: 2-8                         [4, 120, 1, 1]            --\n",
       "├─Sequential: 1-6                        [4, 84]                   --\n",
       "│    └─Linear: 2-9                       [4, 84]                   10,080\n",
       "│    └─ReLU: 2-10                        [4, 84]                   --\n",
       "├─Sequential: 1-7                        [4, 10]                   --\n",
       "│    └─Linear: 2-11                      [4, 10]                   840\n",
       "==========================================================================================\n",
       "Total params: 61,470\n",
       "Trainable params: 61,470\n",
       "Non-trainable params: 0\n",
       "Total mult-adds (M): 1.67\n",
       "==========================================================================================\n",
       "Input size (MB): 0.02\n",
       "Forward/backward pass size (MB): 0.21\n",
       "Params size (MB): 0.25\n",
       "Estimated Total Size (MB): 0.47\n",
       "=========================================================================================="
      ]
     },
     "execution_count": 7,
     "metadata": {},
     "output_type": "execute_result"
    }
   ],
   "source": [
    "from torchinfo import summary\n",
    "# TODO\n",
    "summary(net, input_size=(4, 1, 32, 32))"
   ]
  },
  {
   "cell_type": "markdown",
   "metadata": {
    "id": "Nijieuxptag6"
   },
   "source": [
    "### 1.4 Training and Testing the Neural Network\n",
    "Train this CNN on the training dataset (this may take a few moments).\n",
    "* Check how to save and load the model\n",
    "    * https://pytorch.org/tutorials/beginner/saving_loading_models.html\n",
    "    * Save:\n",
    "        ```\n",
    "        torch.save(model.state_dict(), PATH)\n",
    "        ```\n",
    "    * Load:\n",
    "        ```\n",
    "        model = TheModelClass(*args, **kwargs)\n",
    "        model.load_state_dict(torch.load(PATH))\n",
    "        model.eval()\n",
    "        ```\n",
    "* After training the model, we will save it as `lenet.pt`.\n",
    "* You should comment out `train(net, trainloader, device)` and uncomment `net.load_state_dict(torch.load('lenet.pt'))` before submitting your homework.\n",
    "    * Also, reloading the model from `lenet.pt` can save your time if there is something wrong and you need to restart and run all."
   ]
  },
  {
   "cell_type": "markdown",
   "metadata": {
    "id": "IyyCCoyrZcCY"
   },
   "source": [
    "If you get `ModuleNotFoundError: No module named 'nnutils'` when running the following cell, you should check if the `nnutils` folder exists. `nnutils` and `homework1.ipynb` should be placed in the same directory."
   ]
  },
  {
   "cell_type": "code",
   "execution_count": 8,
   "metadata": {
    "colab": {
     "base_uri": "https://localhost:8080/"
    },
    "executionInfo": {
     "elapsed": 6252,
     "status": "ok",
     "timestamp": 1647621699717,
     "user": {
      "displayName": "柳廷儒",
      "photoUrl": "https://lh3.googleusercontent.com/a/default-user=s64",
      "userId": "15244731849495623051"
     },
     "user_tz": -480
    },
    "id": "CzK6ohj5oNCT",
    "outputId": "cb9f32f1-dcbf-47a7-e48d-2a4fba64b493"
   },
   "outputs": [
    {
     "name": "stdout",
     "output_type": "stream",
     "text": [
      "Accuracy of the network on the test images: 98.33%\n"
     ]
    }
   ],
   "source": [
    "from nnutils import train, test\n",
    "\n",
    "# train(net, trainloader, device)\n",
    "net.load_state_dict(torch.load('lenet.pt'))\n",
    "score = test(net, testloader, None, device)\n",
    "\n",
    "print('Accuracy of the network on the test images: {}%'.format(score))\n",
    "torch.save(net.state_dict(), 'lenet.pt')"
   ]
  },
  {
   "cell_type": "markdown",
   "metadata": {
    "id": "SQZoEjBSveV8"
   },
   "source": [
    "## 2. Post-training Quantization\n",
    "### 2.1 Question: Visualizing Weights"
   ]
  },
  {
   "cell_type": "markdown",
   "metadata": {
    "id": "5qKRX7ply7I2"
   },
   "source": [
    "We have flattened all vectors for you by `tensor.view(-1)`.\n",
    "\n",
    "Plot a histogram of each weight and show the total range and 3-sigma range for each weight. Fill in the TODO in the following cell.\n",
    "\n",
    "hint: `np.histogram()` and `plt.hist()`"
   ]
  },
  {
   "cell_type": "code",
   "execution_count": 9,
   "metadata": {
    "colab": {
     "base_uri": "https://localhost:8080/",
     "height": 1000
    },
    "executionInfo": {
     "elapsed": 759,
     "status": "ok",
     "timestamp": 1647621700463,
     "user": {
      "displayName": "柳廷儒",
      "photoUrl": "https://lh3.googleusercontent.com/a/default-user=s64",
      "userId": "15244731849495623051"
     },
     "user_tz": -480
    },
    "id": "N2h7zJ8m3GAF",
    "outputId": "c91eaabd-eacd-4c6d-d8f4-5916f8d06d8a"
   },
   "outputs": [
    {
     "data": {
      "image/png": "[encoded data removed]",
      "text/plain": [
       "<Figure size 432x288 with 1 Axes>"
      ]
     },
     "metadata": {
      "needs_background": "light"
     },
     "output_type": "display_data"
    },
    {
     "name": "stdout",
     "output_type": "stream",
     "text": [
      "total range: [-0.38145962357521057, 0.3893941342830658]\n",
      "3-sigma range: [-0.47230038046836853, 0.4899280369281769]\n"
     ]
    },
    {
     "data": {
      "image/png": "[encoded data removed]",
      "text/plain": [
       "<Figure size 432x288 with 1 Axes>"
      ]
     },
     "metadata": {
      "needs_background": "light"
     },
     "output_type": "display_data"
    },
    {
     "name": "stdout",
     "output_type": "stream",
     "text": [
      "total range: [-0.6995939016342163, 0.4628233313560486]\n",
      "3-sigma range: [-0.5567464828491211, 0.4545438587665558]\n"
     ]
    },
    {
     "data": {
      "image/png": "[encoded data removed]",
      "text/plain": [
       "<Figure size 432x288 with 1 Axes>"
      ]
     },
     "metadata": {
      "needs_background": "light"
     },
     "output_type": "display_data"
    },
    {
     "name": "stdout",
     "output_type": "stream",
     "text": [
      "total range: [-0.8994451761245728, 0.6181245446205139]\n",
      "3-sigma range: [-0.4248185157775879, 0.3902179002761841]\n"
     ]
    },
    {
     "data": {
      "image/png": "[encoded data removed]",
      "text/plain": [
       "<Figure size 432x288 with 1 Axes>"
      ]
     },
     "metadata": {
      "needs_background": "light"
     },
     "output_type": "display_data"
    },
    {
     "name": "stdout",
     "output_type": "stream",
     "text": [
      "total range: [-0.5659916996955872, 0.5828624367713928]\n",
      "3-sigma range: [-0.4110371768474579, 0.38877037167549133]\n"
     ]
    },
    {
     "data": {
      "image/png": "[encoded data removed]",
      "text/plain": [
       "<Figure size 432x288 with 1 Axes>"
      ]
     },
     "metadata": {
      "needs_background": "light"
     },
     "output_type": "display_data"
    },
    {
     "name": "stdout",
     "output_type": "stream",
     "text": [
      "total range: [-1.3044841289520264, 0.21904323995113373]\n",
      "3-sigma range: [-0.7484792470932007, 0.4573535621166229]\n"
     ]
    }
   ],
   "source": [
    "import matplotlib.pyplot as plt\n",
    "\n",
    "conv1_weights = net.c1[0].weight.data.cpu().view(-1)\n",
    "conv2_weights = net.c3[0].weight.data.cpu().view(-1)\n",
    "conv3_weights = net.c5[0].weight.data.cpu().view(-1)\n",
    "fc1_weights = net.f6[0].weight.data.cpu().view(-1)\n",
    "fc2_weights = net.output[0].weight.data.cpu().view(-1)\n",
    "\n",
    "# TODO\n",
    "plt.hist(conv1_weights)\n",
    "plt.title('conv1_weights')\n",
    "plt.show()\n",
    "print(f'total range: [{conv1_weights.min()}, {conv1_weights.max()}]')\n",
    "print(f'3-sigma range: [{conv1_weights.mean()-3*conv1_weights.std()}, {conv1_weights.mean()+3*conv1_weights.std()}]')\n",
    "\n",
    "plt.hist(conv2_weights)\n",
    "plt.title('conv2_weights')\n",
    "plt.show()\n",
    "print(f'total range: [{conv2_weights.min()}, {conv2_weights.max()}]')\n",
    "print(f'3-sigma range: [{conv2_weights.mean()-3*conv2_weights.std()}, {conv2_weights.mean()+3*conv2_weights.std()}]')\n",
    "\n",
    "plt.hist(conv3_weights)\n",
    "plt.title('conv3_weights')\n",
    "plt.show()\n",
    "print(f'total range: [{conv3_weights.min()}, {conv3_weights.max()}]')\n",
    "print(f'3-sigma range: [{conv3_weights.mean()-3*conv3_weights.std()}, {conv3_weights.mean()+3*conv3_weights.std()}]')\n",
    "\n",
    "plt.hist(fc1_weights)\n",
    "plt.title('fc1_weights')\n",
    "plt.show()\n",
    "print(f'total range: [{fc1_weights.min()}, {fc1_weights.max()}]')\n",
    "print(f'3-sigma range: [{fc1_weights.mean()-3*fc1_weights.std()}, {fc1_weights.mean()+3*fc1_weights.std()}]')\n",
    "\n",
    "plt.hist(fc2_weights)\n",
    "plt.title('fc2_weights')\n",
    "plt.show()\n",
    "print(f'total range: [{fc2_weights.min()}, {fc2_weights.max()}]')\n",
    "print(f'3-sigma range: [{fc2_weights.mean()-3*fc2_weights.std()}, {fc2_weights.mean()+3*fc2_weights.std()}]')"
   ]
  },
  {
   "cell_type": "markdown",
   "metadata": {
    "id": "2hKjshaHD11m"
   },
   "source": [
    "### 2.2 Question:  Quantizing Weights\n",
    "Computation of convolution or fully-connected layer can be expressed as\n",
    "$$W\\times I = O$$\n",
    "where $W$ is the weight tensor, $I$ is the input tensor, and $O$ is the output tensor.\n",
    "Let $n_w$ be the scaling factor. We have $$W_q\\times I =n_w W \\times I\\approx n_w O$$ where $W_q$ is the quantized 8-bit signed integer weight tensor.\n",
    "\n",
    "Fill in the TODO in `quantized_weights()` of `quantize_layer_weights()`.If you’ve done everything correctly, the accuracy degradation should be negligible.\n",
    "1. What is $n_w$? Explain how you get it.\n",
    "2. What is the accuracy degradation? \\\n",
    "Show both relative error and absolute error when the true value is the accuracy we get before performing any quantization."
   ]
  },
  {
   "cell_type": "markdown",
   "metadata": {
    "id": "6dqjcTIWZcCb"
   },
   "source": [
    "### 2.2 Answers\n",
    "<font color='red'>Write your answers here.</font>\n",
    "1. $n_w = \\frac{2^8-1}{max(|W|)*2}$\\\n",
    "分母為$W_q$的範圍大小，分子為$W$的範圍大小 \n",
    "2. relative error: $\\frac{98.35\\% - 98.33\\%}{98.33\\%} = 0.02\\%$\\\n",
    "absolute error: $98.35\\% - 98.33\\% = 0.02\\%$"
   ]
  },
  {
   "cell_type": "code",
   "execution_count": 10,
   "metadata": {
    "colab": {
     "base_uri": "https://localhost:8080/"
    },
    "executionInfo": {
     "elapsed": 5597,
     "status": "ok",
     "timestamp": 1647621706057,
     "user": {
      "displayName": "柳廷儒",
      "photoUrl": "https://lh3.googleusercontent.com/a/default-user=s64",
      "userId": "15244731849495623051"
     },
     "user_tz": -480
    },
    "id": "oO8kkR-MZcCb",
    "outputId": "2dfc3995-8443-4124-d3d0-49d25ed5527c"
   },
   "outputs": [
    {
     "name": "stdout",
     "output_type": "stream",
     "text": [
      "Accuracy of the network on the test images: 98.33%\n"
     ]
    }
   ],
   "source": [
    "score = test(net, testloader, None, device)\n",
    "print('Accuracy of the network on the test images: {}%'.format(score))"
   ]
  },
  {
   "cell_type": "code",
   "execution_count": 11,
   "metadata": {
    "colab": {
     "base_uri": "https://localhost:8080/"
    },
    "executionInfo": {
     "elapsed": 6126,
     "status": "ok",
     "timestamp": 1647621712178,
     "user": {
      "displayName": "柳廷儒",
      "photoUrl": "https://lh3.googleusercontent.com/a/default-user=s64",
      "userId": "15244731849495623051"
     },
     "user_tz": -480
    },
    "id": "qXNk1fXuPGjB",
    "outputId": "4c7c0449-7175-4251-a016-317d2904cfe7"
   },
   "outputs": [
    {
     "name": "stdout",
     "output_type": "stream",
     "text": [
      "Accuracy of the network after quantizing all weights: 98.35%\n"
     ]
    }
   ],
   "source": [
    "from nnutils import copy_model, quantize_layer_weights\n",
    "net_q2 = copy_model(net)\n",
    "quantize_layer_weights(net_q2, device)\n",
    "score = test(net_q2, testloader, None, device)\n",
    "print('Accuracy of the network after quantizing all weights: {}%'.format(score))"
   ]
  },
  {
   "cell_type": "markdown",
   "metadata": {
    "id": "xg7bfTF1bBVe"
   },
   "source": [
    "### 2.3 Question: Visualizing Activations\n",
    "Plot histograms of the input images and the output activations of each operation and answer the following questions in the report. Fill in the TODO in the following cell.\n",
    "1. Discuss any observations about the distribution of these activations.\n",
    "2. Record the range of the values, as well as their 3-sigma range (the difference between μ + 3σ and μ − 3σ)."
   ]
  },
  {
   "cell_type": "markdown",
   "metadata": {
    "id": "Sfay-e81ZcCc"
   },
   "source": [
    "### 2.3 Answers\n",
    "<font color='red'>Write your answers here.</font>\n",
    "1. 大部分分布較不平均，input_activations集中在-1附近，c1_output_activations、c3_output_activations、c5_output_activations、f6_output_activations則集中在0附近\n",
    "2. \n",
    "* input_activations:\\\n",
    "total range: [-1.0, 0.9843137264251709]\\\n",
    "3-sigma range: [-2.484403610229492, 1.0379424095153809]\n",
    "* c1_output_activations:\n",
    "total range: [0.0, 2.089442729949951]\\\n",
    "3-sigma range: [-0.811760663986206, 1.1346001625061035]\n",
    "* c3_output_activations:\n",
    "total range: [0.0, 3.735504150390625]\\\n",
    "3-sigma range: [-1.18422532081604, 1.4073326587677002]\n",
    "* c5_output_activations:\n",
    "total range: [0.0, 8.433671951293945]\\\n",
    "3-sigma range: [-3.478732109069824, 4.161067962646484]\n",
    "* f6_output_activations:\n",
    "total range: [0.0, 7.2109761238098145]\\\n",
    "3-sigma range: [-4.60902214050293, 6.3230180740356445]\n",
    "* output_output_activations:\n",
    "total range: [0.0, 8.433671951293945]\\\n",
    "3-sigma range: [-3.478732109069824, 4.161067962646484]"
   ]
  },
  {
   "cell_type": "code",
   "execution_count": 12,
   "metadata": {
    "executionInfo": {
     "elapsed": 7,
     "status": "ok",
     "timestamp": 1647621712179,
     "user": {
      "displayName": "柳廷儒",
      "photoUrl": "https://lh3.googleusercontent.com/a/default-user=s64",
      "userId": "15244731849495623051"
     },
     "user_tz": -480
    },
    "id": "e4bAIZY8ZcCd"
   },
   "outputs": [],
   "source": [
    "net_q3 = copy_model(net)\n",
    "\n",
    "def visualizeActivations(module, input, output):\n",
    "    if module.profile_activations == True:\n",
    "        module.inAct = input[0].cpu().view(-1)\n",
    "        module.outAct = output[0].cpu().view(-1)\n",
    "    \n",
    "for name, model in net_q3.named_children():\n",
    "    model.profile_activations = True\n",
    "    model.register_forward_hook(visualizeActivations)\n",
    "net_q3.eval()\n",
    "with torch.no_grad():\n",
    "    input = trainset[0][0].unsqueeze(0)\n",
    "    _ = net_q3(input.to(device))  \n",
    "for name, model in net_q3.named_children(): model.profile_activations = False "
   ]
  },
  {
   "cell_type": "code",
   "execution_count": 13,
   "metadata": {
    "colab": {
     "base_uri": "https://localhost:8080/",
     "height": 1000
    },
    "executionInfo": {
     "elapsed": 1605,
     "status": "ok",
     "timestamp": 1647621713778,
     "user": {
      "displayName": "柳廷儒",
      "photoUrl": "https://lh3.googleusercontent.com/a/default-user=s64",
      "userId": "15244731849495623051"
     },
     "user_tz": -480
    },
    "id": "AEo8VK46bwjn",
    "outputId": "91543e58-3ef5-4e39-83bd-5d8f8d15d886"
   },
   "outputs": [
    {
     "data": {
      "image/png": "[encoded data removed]",
      "text/plain": [
       "<Figure size 432x288 with 1 Axes>"
      ]
     },
     "metadata": {
      "needs_background": "light"
     },
     "output_type": "display_data"
    },
    {
     "name": "stdout",
     "output_type": "stream",
     "text": [
      "total range: [-1.0, 0.9843137264251709]\n",
      "3-sigma range: [-2.484403610229492, 1.0379424095153809]\n"
     ]
    },
    {
     "data": {
      "image/png": "[encoded data removed]",
      "text/plain": [
       "<Figure size 432x288 with 1 Axes>"
      ]
     },
     "metadata": {
      "needs_background": "light"
     },
     "output_type": "display_data"
    },
    {
     "name": "stdout",
     "output_type": "stream",
     "text": [
      "total range: [0.0, 2.089442729949951]\n",
      "3-sigma range: [-0.811760663986206, 1.1346001625061035]\n"
     ]
    },
    {
     "data": {
      "image/png": "[encoded data removed]",
      "text/plain": [
       "<Figure size 432x288 with 1 Axes>"
      ]
     },
     "metadata": {
      "needs_background": "light"
     },
     "output_type": "display_data"
    },
    {
     "name": "stdout",
     "output_type": "stream",
     "text": [
      "total range: [0.0, 3.735504150390625]\n",
      "3-sigma range: [-1.18422532081604, 1.4073326587677002]\n"
     ]
    },
    {
     "data": {
      "image/png": "[encoded data removed]",
      "text/plain": [
       "<Figure size 432x288 with 1 Axes>"
      ]
     },
     "metadata": {
      "needs_background": "light"
     },
     "output_type": "display_data"
    },
    {
     "name": "stdout",
     "output_type": "stream",
     "text": [
      "total range: [0.0, 8.433671951293945]\n",
      "3-sigma range: [-3.478732109069824, 4.161067962646484]\n"
     ]
    },
    {
     "data": {
      "image/png": "[encoded data removed]",
      "text/plain": [
       "<Figure size 432x288 with 1 Axes>"
      ]
     },
     "metadata": {
      "needs_background": "light"
     },
     "output_type": "display_data"
    },
    {
     "name": "stdout",
     "output_type": "stream",
     "text": [
      "total range: [0.0, 7.2109761238098145]\n",
      "3-sigma range: [-4.60902214050293, 6.3230180740356445]\n"
     ]
    },
    {
     "data": {
      "image/png": "[encoded data removed]",
      "text/plain": [
       "<Figure size 432x288 with 1 Axes>"
      ]
     },
     "metadata": {
      "needs_background": "light"
     },
     "output_type": "display_data"
    },
    {
     "name": "stdout",
     "output_type": "stream",
     "text": [
      "total range: [-18.130386352539062, 4.105435371398926]\n",
      "3-sigma range: [-32.240623474121094, 11.806417465209961]\n"
     ]
    }
   ],
   "source": [
    "input_activations = net_q3.c1.inAct\n",
    "c1_output_activations = net_q3.c1.outAct\n",
    "c3_output_activations = net_q3.c3.outAct\n",
    "c5_output_activations = net_q3.c5.outAct\n",
    "f6_output_activations = net_q3.f6.outAct\n",
    "output_output_activations = net_q3.output.outAct\n",
    "\n",
    "# TODO\n",
    "plt.hist(input_activations)\n",
    "plt.title('input_activations')\n",
    "plt.show()\n",
    "print(f'total range: [{input_activations.min()}, {input_activations.max()}]')\n",
    "print(f'3-sigma range: [{input_activations.mean()-3*input_activations.std()}, {input_activations.mean()+3*input_activations.std()}]')\n",
    "\n",
    "plt.hist(c1_output_activations)\n",
    "plt.title('c1_output_activations')\n",
    "plt.show()\n",
    "print(f'total range: [{c1_output_activations.min()}, {c1_output_activations.max()}]')\n",
    "print(f'3-sigma range: [{c1_output_activations.mean()-3*c1_output_activations.std()}, {c1_output_activations.mean()+3*c1_output_activations.std()}]')\n",
    "\n",
    "plt.hist(c3_output_activations)\n",
    "plt.title('c3_output_activations')\n",
    "plt.show()\n",
    "print(f'total range: [{c3_output_activations.min()}, {c3_output_activations.max()}]')\n",
    "print(f'3-sigma range: [{c3_output_activations.mean()-3*c3_output_activations.std()}, {c3_output_activations.mean()+3*c3_output_activations.std()}]')\n",
    "\n",
    "plt.hist(c5_output_activations)\n",
    "plt.title('c5_output_activations')\n",
    "plt.show()\n",
    "print(f'total range: [{c5_output_activations.min()}, {c5_output_activations.max()}]')\n",
    "print(f'3-sigma range: [{c5_output_activations.mean()-3*c5_output_activations.std()}, {c5_output_activations.mean()+3*c5_output_activations.std()}]')\n",
    "\n",
    "plt.hist(f6_output_activations)\n",
    "plt.title('f6_output_activations')\n",
    "plt.show()\n",
    "print(f'total range: [{f6_output_activations.min()}, {f6_output_activations.max()}]')\n",
    "print(f'3-sigma range: [{f6_output_activations.mean()-3*f6_output_activations.std()}, {f6_output_activations.mean()+3*f6_output_activations.std()}]')\n",
    "\n",
    "plt.hist(output_output_activations)\n",
    "plt.title('output_output_activations')\n",
    "plt.show()\n",
    "print(f'total range: [{output_output_activations.min()}, {output_output_activations.max()}]')\n",
    "print(f'3-sigma range: [{output_output_activations.mean()-3*output_output_activations.std()}, {output_output_activations.mean()+3*output_output_activations.std()}]')"
   ]
  },
  {
   "cell_type": "markdown",
   "metadata": {
    "id": "haiPVx4ibEra"
   },
   "source": [
    "### 2.4 Question:  Quantizing Activations\n",
    "The output of conv in `c1` can be $$W_{conv1}* I=O_{conv1}.$$\n",
    "Let the scaling factor of the quantized input matrix $I$ be $n_I$, the scaling factor of the quantized weight matrix $W_{conv1}$ \n",
    "be $n_{W_{c1}}$, and the scaling factor of the output matrix $O_{conv1}$ be $n_{O_{c1}}$.  \n",
    "$$W_{conv1_q}* I_q = (n_{W_{c1}}W_{conv1})* (n_II)\\approx (n_{W_{c1}}n_I)O_{conv1}$$\n",
    "where $W_{conv1_q}$ is the quantized 8-bit signed integer weight tensor and $I_q$ is the quantized 8-bit signed integer input activation tensor.\n",
    "\n",
    "On the other hand,\n",
    "$$O_{conv1_q} \\approx n_{O_{c1}}O_{conv1}$$\n",
    "where $O_{conv1_q}$ is the quantized 8-bit signed integer output activation tensor \"without\" considering quantized weight tensor and quantized input activation tensor.\n",
    "\n",
    "Since we're doing post-training quantization, we can get $n_I$, $n_{W_{c1}}$, and $n_{O_{c1}}$ first and do the other calculations for quantization.\n",
    "\n",
    "Answer the following questions in the report.\n",
    "\n",
    "1. How to compute $n_I$, $n_{W_{c1}}$, and $n_{O_{c1}}$? \n",
    "2. The ture quantized output activation tensor is depend on $W_{conv1_q}$ and $I_q$, so we cannot simply apply $n_{O_{c1}}$ on the output of $W_{conv1_q}* I_q$ to quantize the output activation. Derive an equation for the quantized output of the conv in c1 after quantizing activation and weight with  $n_I$, $n_{W_{c1}}$, and $n_{O_{c1}}$ and show the scaling factor $S_1$ of it. \\\n",
    "(hint: quantize $O$ in $W_{conv1_q}* I_q = O$ and get $W_{conv1_q}* I_q \\approx S_1O = O_q$ where $O_q$ is the quantized 8-bit signed integer output.)\n",
    "3. Derive an equation for the quantized output of the conv in `c3` after quantizing activation and weight.\n",
    "4. Show the general form of the equation for layer $l$ to calculate the scaling factor $S_l$ of the output activation.\n",
    "   * You may use notations like $W_l, O_l$ to indicate the weight and output activation of layer $l$, respectively.\n",
    "   * Fill in the TODO in `quantize_initial_input()` and `quantize_activations()` of `NetQuantized()` to compute $n_I$ and $S_l$ for the layer $l$ that scale values in the range of 8-bit signed integers.\n",
    "5. As for `forward()` of `NetQuantized()`, make sure you can simulate fixed-point representation when doing any calculation with input/output scale. Keep in mind that we will implement hardware to accelerate this model with fixed-point computations.\n",
    "   * In this assignment, we only \"emulate\" fixed-point computations. We don't need to use any fixed-point data type (e.g., `int`).\n",
    "   * You will have to fill in the TODO in `forward()` to scale the outputs of each layer. Consider rounding binary fractions to the 16th place with the following steps (e.g., for output_scale): \n",
    "       1. `scale = round(scale*(2**16))`: Now, we have the `scale` rounded to the 16th place with a software trick of moving the binary point (`*(2**16)`) and applying the round function.\n",
    "       2. `(scale*features) >> 16`: Move back the binary point.\n",
    "       3. Clamp the value between -128 and 127\n",
    "    * As for scaling the initial input, you can simply perform `round(scale)*features` since `input_scale` is much greater than 1.\n",
    "    * If you have done everything correctly, the accuracy degradation should be negligible. \n",
    "    * What is the accuracy degradation? Show both relative and absolute errors when the actual value is the accuracy before quantization.\n",
    "6. What are the pros and cons of using fixed-point representation when forwarding feature maps to the next layer?\n",
    "7. Show the all `output_scale`s before and after `round(scale*(2**16))`?"
   ]
  },
  {
   "cell_type": "markdown",
   "metadata": {
    "id": "aVAfSDxWZcCd"
   },
   "source": [
    "### 2.4 Answers\n",
    "<font color='red'>Write your answers here.</font>\n",
    "1. $$n_I = \\frac{2^8-1}{max(|I|)*2}$$\\\n",
    "$$n_{W_{c1}} = \\frac{2^8-1}{max(|W_{conv1}|)*2}$$\\\n",
    "$$n_{O_{c1}} = \\frac{2^8-1}{max(|O_{conv1}|)*2}$$\n",
    "2. $$W_{conv1_q}* I_q = (n_{W_{c1}}W_{conv1})* (n_II)\\approx (n_{W_{c1}}n_I)O_{conv1}\\approx \\frac{n_{W_{c1}}n_I}{n_{O_{c1}}}O_{conv1_q}$$\n",
    "$$W_{conv1_q}* I_q*\\frac{n_{O_{c1}}}{n_{W_{c1}}n_I} \\approx O_{conv1_q}$$\n",
    "$$S_1=\\frac{n_{O_{c1}}}{n_{W_{c1}}n_I}$$\n",
    "3. $$W_{conv3_q}* O_{conv1_q} = (n_{W_{c3}}W_{conv3})* (n_{O_{c1}}O_{conv1}) \\approx(n_{W_{c3}}n_{O_{c1}})O_{conv3}\\approx \\frac{n_{W_{c3}}n_{O_{c1}}}{n_{O_{c3}}}O_{conv3_q}$$\n",
    "$$S_3 = \\frac{n_{O_{c3}}}{n_{W_{c3}}n_{O_{c1}}} = \\frac{n_{O_{c3}}}{n_{W_{c3}}S_1n_{W_{c1}}n_I}$$\n",
    "4. $$S_l = \\frac{n_{O_{cl}}}{n_{W_{cl}}n_{O_{l-1}}}= \\frac{n_{O_{cl}}}{n_{W_{cl}}S_{l-1}n_{W_{cl-1}}\\cdots S_1n_{W_{c1}}n_I}$$\n",
    "\n",
    "5. relative error: $\\frac{98.25\\% - 98.33\\%}{98.33\\%} = -0.08\\%$\\\n",
    "absolute error: $98.25\\% - 98.33\\% = -0.08\\%$\n",
    "6. \n",
    "pros: fast, less energy consumption, less area of hardware\\\n",
    "cons: less accuracy\n",
    "7. \n",
    "* c1 output scale:\\\n",
    "before: 0.0014616682892665267, after: 96.0\n",
    "* c3 output scale:\\\n",
    "before: 0.003069142811000347, after: 201.0\n",
    "* c5 output scale:\\\n",
    "before: 0.0031246189028024673, after: 205.0\n",
    "* f6 output scale:\\\n",
    "before: 0.005346610676497221, after: 350.0\n",
    "* output scale:\\\n",
    "before: 0.004069261718541384, after: 267.0"
   ]
  },
  {
   "cell_type": "code",
   "execution_count": 14,
   "metadata": {
    "executionInfo": {
     "elapsed": 9,
     "status": "ok",
     "timestamp": 1647621713779,
     "user": {
      "displayName": "柳廷儒",
      "photoUrl": "https://lh3.googleusercontent.com/a/default-user=s64",
      "userId": "15244731849495623051"
     },
     "user_tz": -480
    },
    "id": "13CpHgvE994J"
   },
   "outputs": [],
   "source": [
    "from nnutils import NetQuantized\n",
    "from copy import deepcopy\n",
    "\n",
    "net_init = copy_model(net_q2)\n",
    "net_init.input_activations = deepcopy(net_q3.c1.inAct)\n",
    "        \n",
    "for layer_init, layer_q3 in zip(net_init.children(), net_q3.children()):\n",
    "    layer_init.inAct = deepcopy(layer_q3.inAct)\n",
    "    layer_init.outAct = deepcopy(layer_q3.outAct)\n",
    "\n",
    "net_quantized = NetQuantized(net_init)"
   ]
  },
  {
   "cell_type": "code",
   "execution_count": 15,
   "metadata": {
    "colab": {
     "base_uri": "https://localhost:8080/"
    },
    "executionInfo": {
     "elapsed": 8,
     "status": "ok",
     "timestamp": 1647621713779,
     "user": {
      "displayName": "柳廷儒",
      "photoUrl": "https://lh3.googleusercontent.com/a/default-user=s64",
      "userId": "15244731849495623051"
     },
     "user_tz": -480
    },
    "id": "5eLIYeZ0o6pS",
    "outputId": "2ad9adc0-fbc0-4d68-f6b1-612b899c5dc0"
   },
   "outputs": [
    {
     "name": "stdout",
     "output_type": "stream",
     "text": [
      "input scale:\n",
      "before: 127.49999237060547\n",
      "c1 output scale:\n",
      "before: 0.0014616682892665267, after: 96.0\n",
      "c3 output scale:\n",
      "before: 0.003069142811000347, after: 201.0\n",
      "c5 output scale:\n",
      "before: 0.0031246189028024673, after: 205.0\n",
      "f6 output scale:\n",
      "before: 0.005346610676497221, after: 350.0\n",
      "output scale:\n",
      "before: 0.004069261718541384, after: 267.0\n"
     ]
    }
   ],
   "source": [
    "print(f'input scale:\\nbefore: {net_quantized.input_scale}')\n",
    "print(f'c1 output scale:\\nbefore: {net_quantized.c1.output_scale}, after: {(net_quantized.c1.output_scale*(2**16)).round()}')\n",
    "print(f'c3 output scale:\\nbefore: {net_quantized.c3.output_scale}, after: {(net_quantized.c3.output_scale*(2**16)).round()}')\n",
    "print(f'c5 output scale:\\nbefore: {net_quantized.c5.output_scale}, after: {(net_quantized.c5.output_scale*(2**16)).round()}')\n",
    "print(f'f6 output scale:\\nbefore: {net_quantized.f6.output_scale}, after: {(net_quantized.f6.output_scale*(2**16)).round()}')\n",
    "print(f'output scale:\\nbefore: {net_quantized.output.output_scale}, after: {(net_quantized.output.output_scale*(2**16)).round()}')"
   ]
  },
  {
   "cell_type": "code",
   "execution_count": 16,
   "metadata": {
    "colab": {
     "base_uri": "https://localhost:8080/"
    },
    "executionInfo": {
     "elapsed": 8169,
     "status": "ok",
     "timestamp": 1647621721941,
     "user": {
      "displayName": "柳廷儒",
      "photoUrl": "https://lh3.googleusercontent.com/a/default-user=s64",
      "userId": "15244731849495623051"
     },
     "user_tz": -480
    },
    "id": "VcBXEodN6hrY",
    "outputId": "2d679fa4-eaf2-485f-d0a7-9f245cfc0e70"
   },
   "outputs": [
    {
     "name": "stdout",
     "output_type": "stream",
     "text": [
      "Accuracy of the network after quantizing both weights and activations: 98.25%\n"
     ]
    }
   ],
   "source": [
    "score = test(net_quantized, testloader, max_samples=None, device=device)\n",
    "print('Accuracy of the network after quantizing both weights and activations: {}%'.format(score))"
   ]
  },
  {
   "cell_type": "markdown",
   "metadata": {
    "id": "1jTOL7scbMs7"
   },
   "source": [
    "### 2.5 Question:  Quantizing Biases\n",
    "We add a bias in the final layer of this LeNet.\n",
    "\n",
    "Answer the following questions in the report.\n",
    "1. Now, the equation is $$W*I+\\beta = O,$$ where $\\beta$ is the bias. Derive the equation of a quantized layer with bias.\\\n",
    "Note that our biases are commonly quantized to 32-bits. Therefore, your bias values are not necessary between -128 and 127.\n",
    "2. What is the scaling factor for the bias?\\\n",
    "(hint: the form looks just like what we have done for quantizing activations)\n",
    "3. Fill in the TODO in `NetQuantizedWithBias()`.If you have done everything correctly, the accuracy degradation should be negligible. What is the accuracy degradation?\n",
    "    * Show both relative error and absolute error when the true value is the accuracy we get before performing any quantization."
   ]
  },
  {
   "cell_type": "markdown",
   "metadata": {
    "id": "6_o_0eTgZcCe"
   },
   "source": [
    "### 2.5 Answers\n",
    "<font color='red'>Write your answers here.</font>\n",
    "1. $$\\frac{W_q}{n_W}*\\frac{I_q}{n_I}+\\beta=\\frac{O_q}{n_O}$$\n",
    "$$\\frac{n_O}{n_Wn_I}(W_qI_q+n_Wn_I\\beta)=O_q$$\n",
    "2. $$S = n_Wn_I = n_{W_{cl}}S_{l-1}n_{W_{cl-1}}\\cdots S_1n_{W_{c1}}n_I$$\n",
    "3. relative error: $\\frac{98.0\\% - 98.01\\%}{98.0\\%} = -0.01\\%$\\\n",
    "absolute error: $98.0\\% - 98.01\\% = -0.01\\%$\n"
   ]
  },
  {
   "cell_type": "markdown",
   "metadata": {
    "id": "fnwNcSiGZcCe"
   },
   "source": [
    "* After training the model, we will save it as `lenet_with_bias.pt`.\n",
    "* You should comment out `train(net_with_bias, trainloader, device)` and uncomment `net_with_bias.load_state_dict(torch.load('lenet_with_bias.pt'))` before submitting your homework.\n",
    "    * Note that reloading the model from `lenet_with_bias.pt` can save your time. You don't need train the model from scratch every time."
   ]
  },
  {
   "cell_type": "code",
   "execution_count": 17,
   "metadata": {
    "colab": {
     "base_uri": "https://localhost:8080/"
    },
    "executionInfo": {
     "elapsed": 6399,
     "status": "ok",
     "timestamp": 1647621728329,
     "user": {
      "displayName": "柳廷儒",
      "photoUrl": "https://lh3.googleusercontent.com/a/default-user=s64",
      "userId": "15244731849495623051"
     },
     "user_tz": -480
    },
    "id": "wjk3hEQaVDpq",
    "outputId": "8c5c5de4-cba4-4453-fee4-65d8b49af487"
   },
   "outputs": [
    {
     "name": "stdout",
     "output_type": "stream",
     "text": [
      "Accuracy of the network (with a bias) on the test images: 98.01%\n"
     ]
    }
   ],
   "source": [
    "from nnutils import LeNet_with_bias\n",
    "\n",
    "net_with_bias = LeNet_with_bias().to(device)\n",
    "# train(net_with_bias, trainloader, device)\n",
    "net_with_bias.load_state_dict(torch.load('lenet_with_bias.pt'))\n",
    "score = test(net_with_bias, testloader, max_samples=None, device=device)\n",
    "\n",
    "print('Accuracy of the network (with a bias) on the test images: {}%'.format(score))\n",
    "torch.save(net_with_bias.state_dict(), 'lenet_with_bias.pt')"
   ]
  },
  {
   "cell_type": "code",
   "execution_count": 18,
   "metadata": {
    "executionInfo": {
     "elapsed": 14,
     "status": "ok",
     "timestamp": 1647621728330,
     "user": {
      "displayName": "柳廷儒",
      "photoUrl": "https://lh3.googleusercontent.com/a/default-user=s64",
      "userId": "15244731849495623051"
     },
     "user_tz": -480
    },
    "id": "U_ZiJk6yEEM-",
    "scrolled": true
   },
   "outputs": [],
   "source": [
    "for name, model in net_with_bias.named_children():\n",
    "    model.profile_activations = True\n",
    "    model.register_forward_hook(visualizeActivations)\n",
    "net_with_bias.eval()\n",
    "with torch.no_grad():\n",
    "    input = trainset[0][0].unsqueeze(0)\n",
    "    _ = net_with_bias(input.to(device))\n",
    "for name, model in net_with_bias.named_children(): model.profile_activations = False "
   ]
  },
  {
   "cell_type": "code",
   "execution_count": 19,
   "metadata": {
    "colab": {
     "base_uri": "https://localhost:8080/"
    },
    "executionInfo": {
     "elapsed": 5740,
     "status": "ok",
     "timestamp": 1647621734058,
     "user": {
      "displayName": "柳廷儒",
      "photoUrl": "https://lh3.googleusercontent.com/a/default-user=s64",
      "userId": "15244731849495623051"
     },
     "user_tz": -480
    },
    "id": "yZwk8KLtAUAM",
    "outputId": "12432226-2779-4438-f796-1af1589fef73"
   },
   "outputs": [
    {
     "name": "stdout",
     "output_type": "stream",
     "text": [
      "Accuracy of the network on the test images after all the weights are quantized but the bias isn't: 98.09%\n"
     ]
    }
   ],
   "source": [
    "net_with_bias_with_quantized_weights = copy_model(net_with_bias)\n",
    "quantize_layer_weights(net_with_bias_with_quantized_weights, device)\n",
    "\n",
    "score = test(net_with_bias_with_quantized_weights, testloader, max_samples=None, device=device)\n",
    "print('Accuracy of the network on the test images after all the weights are quantized but the bias isn\\'t: {}%'.format(score))"
   ]
  },
  {
   "cell_type": "code",
   "execution_count": 20,
   "metadata": {
    "colab": {
     "base_uri": "https://localhost:8080/"
    },
    "executionInfo": {
     "elapsed": 9470,
     "status": "ok",
     "timestamp": 1647621743522,
     "user": {
      "displayName": "柳廷儒",
      "photoUrl": "https://lh3.googleusercontent.com/a/default-user=s64",
      "userId": "15244731849495623051"
     },
     "user_tz": -480
    },
    "id": "mO2Gdu_tEZ4v",
    "outputId": "ef9b12ef-5d53-4ce9-dee9-ddc1e5473f42"
   },
   "outputs": [
    {
     "name": "stdout",
     "output_type": "stream",
     "text": [
      "Accuracy of the network on the test images after all the weights and the bias are quantized: 98.0%\n"
     ]
    }
   ],
   "source": [
    "from nnutils import NetQuantizedWithBias\n",
    "net_quantized_with_bias = NetQuantizedWithBias(net_with_bias_with_quantized_weights)\n",
    "score = test(net_quantized_with_bias, testloader, max_samples=None, device=device)\n",
    "print('Accuracy of the network on the test images after all the weights and the bias are quantized: {}%'.format(score))"
   ]
  },
  {
   "cell_type": "markdown",
   "metadata": {
    "id": "U_W-RCmHjlkg"
   },
   "source": [
    "# Extract the inputs and outputs of the quantized model."
   ]
  },
  {
   "cell_type": "code",
   "execution_count": 21,
   "metadata": {
    "executionInfo": {
     "elapsed": 577,
     "status": "ok",
     "timestamp": 1647621744091,
     "user": {
      "displayName": "柳廷儒",
      "photoUrl": "https://lh3.googleusercontent.com/a/default-user=s64",
      "userId": "15244731849495623051"
     },
     "user_tz": -480
    },
    "id": "AllumB6-YI9B"
   },
   "outputs": [],
   "source": [
    "# Replace and save the model with quantized biases.\n",
    "inference_model = copy_model(net_quantized_with_bias)\n",
    "torch.save(inference_model.state_dict(), 'net_quantized_with_bias.pt')"
   ]
  },
  {
   "cell_type": "code",
   "execution_count": 22,
   "metadata": {
    "colab": {
     "base_uri": "https://localhost:8080/"
    },
    "executionInfo": {
     "elapsed": 8454,
     "status": "ok",
     "timestamp": 1647621752543,
     "user": {
      "displayName": "柳廷儒",
      "photoUrl": "https://lh3.googleusercontent.com/a/default-user=s64",
      "userId": "15244731849495623051"
     },
     "user_tz": -480
    },
    "id": "jWPqoj8tf0Rr",
    "outputId": "fdf29207-de17-447d-93ec-6af81ac56a4c"
   },
   "outputs": [
    {
     "name": "stdout",
     "output_type": "stream",
     "text": [
      "Accuracy of the network after quantizing both weights and activations: 98.0%\n"
     ]
    }
   ],
   "source": [
    "# Use the accuray to check if it remains the same.\n",
    "score = test(inference_model, testloader, max_samples=None, device = device)\n",
    "print('Accuracy of the network after quantizing both weights and activations: {}%'.format(score))"
   ]
  },
  {
   "cell_type": "markdown",
   "metadata": {
    "id": "5TfpcnC60_g4"
   },
   "source": [
    "Choose 100 images to generate patterns for our homework 2."
   ]
  },
  {
   "cell_type": "code",
   "execution_count": 23,
   "metadata": {
    "executionInfo": {
     "elapsed": 4,
     "status": "ok",
     "timestamp": 1647621752544,
     "user": {
      "displayName": "柳廷儒",
      "photoUrl": "https://lh3.googleusercontent.com/a/default-user=s64",
      "userId": "15244731849495623051"
     },
     "user_tz": -480
    },
    "id": "CByZgw-ftMBD"
   },
   "outputs": [],
   "source": [
    "index = range(100)"
   ]
  },
  {
   "cell_type": "markdown",
   "metadata": {
    "id": "x9M4QXt60WmL"
   },
   "source": [
    "Save the input/output activations to the CSV format."
   ]
  },
  {
   "cell_type": "code",
   "execution_count": 24,
   "metadata": {
    "executionInfo": {
     "elapsed": 601,
     "status": "ok",
     "timestamp": 1647621753141,
     "user": {
      "displayName": "柳廷儒",
      "photoUrl": "https://lh3.googleusercontent.com/a/default-user=s64",
      "userId": "15244731849495623051"
     },
     "user_tz": -480
    },
    "id": "WSIdYFyZshFj"
   },
   "outputs": [],
   "source": [
    "import os \n",
    "import zipfile\n",
    "# It is easier to download all the files zipped.\n",
    "zf = zipfile.ZipFile('parameters.zip', 'w', zipfile.ZIP_DEFLATED)\n",
    "\n",
    "if not os.path.exists('./activations'):\n",
    "    os.mkdir('./activations')"
   ]
  },
  {
   "cell_type": "code",
   "execution_count": 25,
   "metadata": {
    "executionInfo": {
     "elapsed": 29918,
     "status": "ok",
     "timestamp": 1647621783058,
     "user": {
      "displayName": "柳廷儒",
      "photoUrl": "https://lh3.googleusercontent.com/a/default-user=s64",
      "userId": "15244731849495623051"
     },
     "user_tz": -480
    },
    "id": "9c8gyXFzZcCg"
   },
   "outputs": [],
   "source": [
    "for ind in range(100):\n",
    "    if not os.path.exists('./activations/img{}'.format(ind)):\n",
    "        os.mkdir('./activations/img{}'.format(ind))\n",
    "\n",
    "    for name, model in inference_model.named_children():\n",
    "        model.profile_activations = True\n",
    "        model.register_forward_hook(visualizeActivations)\n",
    "    input, label = testset[index[ind]]\n",
    "    output = inference_model(input.unsqueeze(0).to(device))\n",
    "    for name, model in inference_model.named_children(): model.profile_activations = False \n",
    "    \n",
    "    np.savetxt('./activations/img{}/input.csv'.format(ind), input.cpu().data.numpy().reshape(-1), delimiter=',')\n",
    "    np.savetxt('./activations/img{}/output.csv'.format(ind), output.cpu().data.numpy().reshape(-1).astype(int), delimiter=',')\n",
    "    zf.write('./activations/img{}/input.csv'.format(ind))\n",
    "    zf.write('./activations/img{}/output.csv'.format(ind))\n",
    "    \n",
    "    opDict = {\n",
    "        'c1': (inference_model.c1.inAct, inference_model.c1.outAct),\n",
    "        's2': (inference_model.s2.inAct, inference_model.s2.outAct),\n",
    "        'c3': (inference_model.c3.inAct, inference_model.c3.outAct),\n",
    "        's4': (inference_model.s4.inAct, inference_model.s4.outAct),\n",
    "        'c5': (inference_model.c5.inAct, inference_model.c5.outAct),\n",
    "        'f6': (inference_model.f6.inAct, inference_model.f6.outAct),\n",
    "        'output': (inference_model.output.inAct, inference_model.output.outAct)\n",
    "    }\n",
    "    \n",
    "    for key in opDict:\n",
    "        if not os.path.exists('./activations/img{}/{}'.format(ind, key)):\n",
    "            os.mkdir('./activations/img{}/{}'.format(ind, key))\n",
    "        np.savetxt('./activations/img{}/{}/input.csv'.format(ind, key), opDict[key][0].cpu().data.numpy().reshape(-1).astype(int), delimiter=',')\n",
    "        np.savetxt('./activations/img{}/{}/output.csv'.format(ind, key), opDict[key][1].cpu().data.numpy().reshape(-1).astype(int), delimiter=',')\n",
    "        zf.write('./activations/img{}/{}/input.csv'.format(ind, key))\n",
    "        zf.write('./activations/img{}/{}/output.csv'.format(ind, key))"
   ]
  },
  {
   "cell_type": "markdown",
   "metadata": {
    "id": "5jo_TlzE1dqy"
   },
   "source": [
    "Save the weights of each layer to the CSV format."
   ]
  },
  {
   "cell_type": "code",
   "execution_count": 26,
   "metadata": {
    "colab": {
     "base_uri": "https://localhost:8080/"
    },
    "executionInfo": {
     "elapsed": 11,
     "status": "ok",
     "timestamp": 1647621783061,
     "user": {
      "displayName": "柳廷儒",
      "photoUrl": "https://lh3.googleusercontent.com/a/default-user=s64",
      "userId": "15244731849495623051"
     },
     "user_tz": -480
    },
    "id": "27MD_hJUzlnf",
    "outputId": "c3aceed6-3075-4593-af4c-ad9de7f89307"
   },
   "outputs": [
    {
     "name": "stdout",
     "output_type": "stream",
     "text": [
      "c1.conv.weight with shape: torch.Size([6, 1, 5, 5])\n",
      "c3.conv.weight with shape: torch.Size([16, 6, 5, 5])\n",
      "c5.conv.weight with shape: torch.Size([120, 16, 5, 5])\n",
      "f6.fc.weight with shape: torch.Size([84, 120])\n",
      "output.fc.weight with shape: torch.Size([10, 84])\n",
      "output.fc.bias with shape: torch.Size([10])\n"
     ]
    }
   ],
   "source": [
    "if not os.path.exists('./weights'):\n",
    "    os.mkdir('./weights')\n",
    "    \n",
    "for name, weights in inference_model.state_dict().items():\n",
    "    print(name, 'with shape:' , weights.shape)\n",
    "    np.savetxt('./weights/%s.csv' %(name) , weights.cpu().numpy().reshape(-1).astype(int), delimiter=',')\n",
    "    zf.write('./weights/%s.csv' %(name))"
   ]
  },
  {
   "cell_type": "markdown",
   "metadata": {
    "id": "mG9TAca-Jbg6"
   },
   "source": [
    "Record the scaling factors to JSON file."
   ]
  },
  {
   "cell_type": "code",
   "execution_count": 27,
   "metadata": {
    "colab": {
     "base_uri": "https://localhost:8080/"
    },
    "executionInfo": {
     "elapsed": 1414,
     "status": "ok",
     "timestamp": 1647621784468,
     "user": {
      "displayName": "柳廷儒",
      "photoUrl": "https://lh3.googleusercontent.com/a/default-user=s64",
      "userId": "15244731849495623051"
     },
     "user_tz": -480
    },
    "id": "VNqV21YVimKD",
    "outputId": "e6db39d3-52d5-4a4d-c400-7a5edf39c211"
   },
   "outputs": [
    {
     "name": "stdout",
     "output_type": "stream",
     "text": [
      "{'input_scale': 127.49999237060547, 'c1_output_scale': 0.0013908724067732692, 'c3_output_scale': 0.003917919006198645, 'c5_output_scale': 0.004373465199023485, 'f6_output_scale': 0.006512903608381748, 'output_output_scale': 0.004893078934401274}\n"
     ]
    }
   ],
   "source": [
    "import json\n",
    "scales = {'input_scale':inference_model.input_scale.item(), 'c1_output_scale': inference_model.c1.output_scale.item(), 'c3_output_scale':inference_model.c3.output_scale.item(),\n",
    "        'c5_output_scale' :inference_model.c5.output_scale.item(), 'f6_output_scale':inference_model.f6.output_scale.item(), 'output_output_scale':inference_model.output.output_scale.item()}\n",
    "print(scales)\n",
    "with open('scale.json', 'w', newline='') as jsonfile:\n",
    "    json.dump(scales, jsonfile)\n",
    "\n",
    "zf.write('./scale.json')"
   ]
  },
  {
   "cell_type": "code",
   "execution_count": 28,
   "metadata": {
    "colab": {
     "base_uri": "https://localhost:8080/"
    },
    "executionInfo": {
     "elapsed": 13,
     "status": "ok",
     "timestamp": 1647621784469,
     "user": {
      "displayName": "柳廷儒",
      "photoUrl": "https://lh3.googleusercontent.com/a/default-user=s64",
      "userId": "15244731849495623051"
     },
     "user_tz": -480
    },
    "id": "9qZzqUchZcCh",
    "outputId": "665c7b05-8e32-43ff-c1be-f46ee045b814"
   },
   "outputs": [
    {
     "name": "stdout",
     "output_type": "stream",
     "text": [
      "{'input_scale': 127, 'c1_output_scale': 91, 'c3_output_scale': 257, 'c5_output_scale': 287, 'f6_output_scale': 427, 'output_output_scale': 321}\n"
     ]
    }
   ],
   "source": [
    "import json\n",
    "scale_hw = {\n",
    "    'input_scale': int(round(inference_model.input_scale.item())), \n",
    "    'c1_output_scale': int(round(inference_model.c1.output_scale.item()*(2**16))), \n",
    "    'c3_output_scale': int(round(inference_model.c3.output_scale.item()*(2**16))),\n",
    "    'c5_output_scale' : int(round(inference_model.c5.output_scale.item()*(2**16))), \n",
    "    'f6_output_scale': int(round(inference_model.f6.output_scale.item()*(2**16))), \n",
    "    'output_output_scale': int(round(inference_model.output.output_scale.item()*(2**16)))\n",
    "}\n",
    "print(scale_hw)\n",
    "with open('scale_hw.json', 'w', newline='') as jsonfile:\n",
    "    json.dump(scale_hw, jsonfile)\n",
    "\n",
    "zf.write('./scale_hw.json')"
   ]
  },
  {
   "cell_type": "markdown",
   "metadata": {
    "id": "HbUYA1VpKLAB"
   },
   "source": [
    "Save the zip file."
   ]
  },
  {
   "cell_type": "code",
   "execution_count": 29,
   "metadata": {
    "executionInfo": {
     "elapsed": 11,
     "status": "ok",
     "timestamp": 1647621784470,
     "user": {
      "displayName": "柳廷儒",
      "photoUrl": "https://lh3.googleusercontent.com/a/default-user=s64",
      "userId": "15244731849495623051"
     },
     "user_tz": -480
    },
    "id": "BlOLRLdTJqcm"
   },
   "outputs": [],
   "source": [
    "zf.close()"
   ]
  }
 ],
 "metadata": {
  "accelerator": "GPU",
  "colab": {
   "collapsed_sections": [],
   "name": "homework1.ipynb",
   "provenance": [
    {
     "file_id": "12ETP3DfjvmL3C_J3MzCYQO6kx63xchet",
     "timestamp": 1612245741926
    }
   ],
   "toc_visible": true
  },
  "kernelspec": {
   "display_name": "Python 3",
   "language": "python",
   "name": "python3"
  },
  "language_info": {
   "codemirror_mode": {
    "name": "ipython",
    "version": 3
   },
   "file_extension": ".py",
   "mimetype": "text/x-python",
   "name": "python",
   "nbconvert_exporter": "python",
   "pygments_lexer": "ipython3",
   "version": "3.8.8"
  }
 },
 "nbformat": 4,
 "nbformat_minor": 1
}
